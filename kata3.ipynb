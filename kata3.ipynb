{
 "cells": [
  {
   "cell_type": "code",
   "execution_count": 1,
   "metadata": {},
   "outputs": [
    {
     "name": "stdout",
     "output_type": "stream",
     "text": [
      "Un asteroide se acerca\n"
     ]
    }
   ],
   "source": [
    "velocidad_asteroide =49\n",
    "if velocidad_asteroide > 25:\n",
    "    print('Un asteroide se acerca')\n",
    "else:\n",
    "    print('No hay de que preocuparse')"
   ]
  },
  {
   "cell_type": "code",
   "execution_count": 4,
   "metadata": {},
   "outputs": [
    {
     "name": "stdout",
     "output_type": "stream",
     "text": [
      "¡Nada que ver aquí!\n"
     ]
    }
   ],
   "source": [
    "velocidad_asteroide = 19\n",
    "if velocidad_asteroide > 20:\n",
    "    print('Hay una luz mágica')\n",
    "elif velocidad_asteroide == 20:\n",
    "    print('Hay una luz mágica')\n",
    "else:\n",
    "    print('No hay nada por ver')"
   ]
  },
  {
   "cell_type": "code",
   "execution_count": 6,
   "metadata": {},
   "outputs": [
    {
     "name": "stdout",
     "output_type": "stream",
     "text": [
      "Hay una luz mágica\n"
     ]
    }
   ],
   "source": [
    "velocidad_asteroide = 25\n",
    "tamano_asteroide = 40\n",
    "if velocidad_asteroide > 25 and tamano_asteroide > 25:\n",
    "    print('¡Un asteroide viene al planeta!')\n",
    "elif velocidad_asteroide >= 20:\n",
    "    print('Hay una luz mágica')\n",
    "elif tamano_asteroide < 25:\n",
    "    print('No hay nada por ver')\n",
    "else:\n",
    "    print('No hay nada por ver')"
   ]
  }
 ],
 "metadata": {
  "interpreter": {
   "hash": "18d8841eaf7846bb837c330d5abc02c782cc01d71015e0d7494faf7d78e905f1"
  },
  "kernelspec": {
   "display_name": "Python 3.10.2 64-bit",
   "language": "python",
   "name": "python3"
  },
  "language_info": {
   "codemirror_mode": {
    "name": "ipython",
    "version": 3
   },
   "file_extension": ".py",
   "mimetype": "text/x-python",
   "name": "python",
   "nbconvert_exporter": "python",
   "pygments_lexer": "ipython3",
   "version": "3.10.2"
  },
  "orig_nbformat": 4
 },
 "nbformat": 4,
 "nbformat_minor": 2
}
