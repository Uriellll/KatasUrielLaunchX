{
 "cells": [
  {
   "cell_type": "markdown",
   "metadata": {},
   "source": [
    "## Ejercicio 1"
   ]
  },
  {
   "cell_type": "code",
   "execution_count": 3,
   "metadata": {},
   "outputs": [
    {
     "name": "stdout",
     "output_type": "stream",
     "text": [
      "El número de plantetas es  8\n"
     ]
    }
   ],
   "source": [
    "planets = ['mercurio','venus','tierra', 'marte', 'jupiter', 'saturno', 'urano', 'neptuno']\n",
    "print(\"El número de plantetas es \", len(planets))"
   ]
  },
  {
   "cell_type": "code",
   "execution_count": 6,
   "metadata": {},
   "outputs": [
    {
     "name": "stdout",
     "output_type": "stream",
     "text": [
      "El número de plantetas es  11\n",
      "pluton\n"
     ]
    }
   ],
   "source": [
    "planets.append('pluton')\n",
    "print(\"El número de plantetas es \", len(planets))\n",
    "print(planets[-1])\n",
    "\n"
   ]
  },
  {
   "cell_type": "markdown",
   "metadata": {},
   "source": [
    "## Ejercicio 2"
   ]
  },
  {
   "cell_type": "code",
   "execution_count": 10,
   "metadata": {},
   "outputs": [
    {
     "name": "stdout",
     "output_type": "stream",
     "text": [
      "5\n",
      "Aquí están los planetas más cernanos aSaturno\n",
      "['Mercurio', 'Venus', 'Tierra', 'Marte', 'Jupiter']\n",
      "Aquí están los planetas más lejanos aSaturno\n",
      "['Urano', 'Neptuno']\n"
     ]
    }
   ],
   "source": [
    "planets = ['Mercurio','Venus','Tierra', 'Marte', 'Jupiter', 'Saturno', 'Urano', 'Neptuno']\n",
    "usuario_planeta = input('Ingresa el planeta ncon la primer letra en mayúscula y las demás en minúsculas')\n",
    "index = planets.index(usuario_planeta)\n",
    "print(index)\n",
    "print('Aquí están los planetas más cernanos a' + usuario_planeta)\n",
    "print(planets[0:index])\n",
    "print('Aquí están los planetas más lejanos a' + usuario_planeta)\n",
    "print(planets[index + 1:])\n"
   ]
  }
 ],
 "metadata": {
  "interpreter": {
   "hash": "18d8841eaf7846bb837c330d5abc02c782cc01d71015e0d7494faf7d78e905f1"
  },
  "kernelspec": {
   "display_name": "Python 3.10.2 64-bit",
   "language": "python",
   "name": "python3"
  },
  "language_info": {
   "codemirror_mode": {
    "name": "ipython",
    "version": 3
   },
   "file_extension": ".py",
   "mimetype": "text/x-python",
   "name": "python",
   "nbconvert_exporter": "python",
   "pygments_lexer": "ipython3",
   "version": "3.10.2"
  },
  "orig_nbformat": 4
 },
 "nbformat": 4,
 "nbformat_minor": 2
}
